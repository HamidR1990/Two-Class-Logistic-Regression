{
 "cells": [
  {
   "cell_type": "code",
   "execution_count": 17,
   "id": "b8a665b8",
   "metadata": {},
   "outputs": [],
   "source": [
    "#################### Multiclass Logistic Regression (One vs. All) ####################\n",
    "import numpy as np\n",
    "import pandas as pd\n",
    "import matplotlib.pyplot as plt\n",
    "\n",
    "\n",
    "#################### Hyperparameters\n",
    "epoch = 100\n",
    "etta = 0.01\n",
    "threshold = 0.5\n",
    "train_rate = 0.7\n",
    "val_rate = 0.2\n",
    "test_rate = 0.1\n",
    "\n",
    "\n",
    "\n",
    "#################### Loading Dataset and Preprocessing\n",
    "df = pd.read_csv(\"iris/iris.data\", header=None)\n",
    "data = np.array(df)\n",
    "M,N = np.shape(data)\n",
    "\n",
    "X_data = data[:, :-1].astype(float)\n",
    "Y_data = data[:, -1]\n",
    "\n",
    "cls = set(Y_data)\n",
    "c = 0\n",
    "\n",
    "for item in cls:\n",
    "    idx = np.where(Y_data == item)\n",
    "    Y_data[idx] = c\n",
    "    c += 1\n",
    "\n",
    "\n",
    "Y_data = Y_data.astype(float)\n",
    "\n",
    "\n",
    "\n",
    "def normalisation(data):\n",
    "    M = np.max(data, axis=0)\n",
    "    m = np.min(data, axis=0)\n",
    "    out = (data - m) / (M-m)\n",
    "    return out\n",
    "\n",
    "\n",
    "def standardisation(data):\n",
    "    out = (data - np.mean(data, axis=0)) / np.std(data, axis=0)\n",
    "    return out\n",
    "\n",
    "\n",
    "X_data = standardisation(X_data)\n",
    "X_data = np.hstack((np.ones((M,1)), X_data))\n",
    "Y_data = np.reshape(Y_data, (M,1)).astype(float)\n",
    "data = np.hstack((X_data, Y_data))\n"
   ]
  },
  {
   "cell_type": "code",
   "execution_count": 18,
   "id": "5dc41d8c",
   "metadata": {},
   "outputs": [],
   "source": [
    "#################### Train-Test-Validation Split\n",
    "M_train = int(np.ceil(train_rate * M))\n",
    "M_val = int(np.ceil(val_rate * M))\n",
    "M_test = M - (M_train + M_val)\n",
    "\n",
    "idx = np.random.permutation(M)\n",
    "train_idx = idx[:M_train]\n",
    "val_idx = idx[M_train: M_train+M_val]\n",
    "test_idx = idx[M_train+M_val: ]\n",
    "\n",
    "X_train = data[train_idx, :-1] \n",
    "Y_train = data[train_idx, -1]\n",
    "X_val = data[val_idx, :-1]\n",
    "Y_val = data[val_idx, -1]\n",
    "X_test = data[test_idx, :-1]\n",
    "Y_test = data[test_idx, -1]\n"
   ]
  },
  {
   "cell_type": "code",
   "execution_count": null,
   "id": "fa0d1720",
   "metadata": {},
   "outputs": [],
   "source": []
  },
  {
   "cell_type": "code",
   "execution_count": 19,
   "id": "18eb5c0b",
   "metadata": {},
   "outputs": [],
   "source": [
    "#################### Logistic Regression Model (One vs. All)\n",
    "\n",
    "C = len(cls)\n",
    "\n",
    "\n",
    "def sigmoid(X):\n",
    "    out = 1 / (1 + np.exp(-1 * X))\n",
    "    return out\n",
    "\n",
    "\n",
    "\n",
    "def grad(X, Y, Y_hat, n):\n",
    "    out = (1/n) * (np.transpose(X) @ (Y_hat - Y))\n",
    "    return out\n",
    "\n",
    "\n",
    "\n",
    "def cross_entropy(Y, Y_hat, n):\n",
    "    new = np.apply_along_axis(np.log, 1, Y_hat)\n",
    "    l1 = Y * new\n",
    "    new2 = np.apply_along_axis(np.log, 1, 1 - Y_hat)\n",
    "    l2 = (1 - Y) * new2\n",
    "    z = (-1 / n) * (l1 + l2)\n",
    "    s = np.sum(z, axis=1)\n",
    "    out = np.mean(s)\n",
    "    return out\n",
    "\n",
    "\n",
    "\n",
    "def my_func(arr):\n",
    "    idx = int(arr[0])\n",
    "    arr[idx+1] = 1\n",
    "    return arr\n",
    "\n",
    "\n",
    "\n",
    "Y_train_m = np.zeros((M_train, C))\n",
    "Y_val_m = np.zeros((M_val, C))\n",
    "Y_test_m = np.zeros((M_test, C))\n",
    "\n",
    "\n",
    "new_1 = np.hstack((np.reshape(Y_train,(M_train,1)), Y_train_m))\n",
    "new_2 = np.hstack((np.reshape(Y_val,(M_val,1)), Y_val_m))\n",
    "new_3 = np.hstack((np.reshape(Y_test,(M_test,1)), Y_test_m))\n",
    "\n",
    "Y_train_m = np.apply_along_axis(my_func, 1, new_1)\n",
    "Y_train_m = Y_train_m[:, 1:]\n",
    "Y_val_m = np.apply_along_axis(my_func, 1, new_2)\n",
    "Y_val_m = Y_val_m[:, 1:]\n",
    "Y_test_m = np.apply_along_axis(my_func, 1, new_3)\n",
    "Y_test_m = Y_test_m[:, 1:]\n",
    "\n",
    "\n",
    "W = np.random.rand(N,C)\n",
    "\n",
    "L_train = np.array([])\n",
    "L_val = np.array([])\n",
    "\n",
    "\n",
    "for i in range(epoch):\n",
    "    \n",
    "    Z_train = X_train @ W\n",
    "    Y_hat_train = sigmoid(Z_train)\n",
    "    Z_val = X_val @ W\n",
    "    Y_hat_val = sigmoid(Z_val)\n",
    "    \n",
    "    c_train = cross_entropy(Y_train_m, Y_hat_train, M_train)\n",
    "    L_train = np.append(L_train, c_train)\n",
    "    \n",
    "    c_val = cross_entropy(Y_val_m, Y_hat_val, M_val)\n",
    "    L_val = np.append(L_val, c_val)\n",
    "    \n",
    "    W = W - (etta * grad(X_train, Y_train_m, Y_hat_train, M_train))\n",
    "\n"
   ]
  },
  {
   "cell_type": "code",
   "execution_count": 4,
   "id": "13c1aec0",
   "metadata": {},
   "outputs": [
    {
     "data": {
      "text/plain": [
       "(105, 3)"
      ]
     },
     "execution_count": 4,
     "metadata": {},
     "output_type": "execute_result"
    }
   ],
   "source": [
    "np.shape(Y_train_m)"
   ]
  },
  {
   "cell_type": "code",
   "execution_count": 16,
   "id": "9205e8b0",
   "metadata": {},
   "outputs": [
    {
     "data": {
      "text/plain": [
       "(105, 3)"
      ]
     },
     "execution_count": 16,
     "metadata": {},
     "output_type": "execute_result"
    }
   ],
   "source": [
    "new = np.apply_along_axis(np.log, 1, 1 - Y_hat_train)\n",
    "np.shape(new)"
   ]
  },
  {
   "cell_type": "code",
   "execution_count": 20,
   "id": "946d0497",
   "metadata": {},
   "outputs": [],
   "source": [
    "#################### Validation and Test\n",
    "def softmax(Y, Y_hat, n):\n",
    "    new = np.apply_along_axis(np.exp, 1, Y_hat)\n",
    "    D = np.sum(new, axis=1)\n",
    "    new2 = np.apply_along_axis(np.exp, 1, Y_hat)\n",
    "    S = new2/D[:, np.newaxis]\n",
    "    return S\n",
    "\n",
    "\n",
    "\n",
    "def accuracy(Y, Y_hat, n):\n",
    "    out = (np.sum(Y == np.round(Y_hat))) / n\n",
    "    return out\n",
    "\n",
    "def TP(Y, Y_hat, n):\n",
    "    l1 = np.where(Y == 1)\n",
    "    l2 = np.where(Y_hat == 1)\n",
    "    out = len(np.intersect1d(l1,l2)) / n\n",
    "    return out\n",
    "\n",
    "def FP(Y, Y_hat, n):\n",
    "    l1 = np.where(Y == 0)\n",
    "    l2 = np.where(Y_hat == 1)\n",
    "    out = len(np.intersect1d(l1,l2)) / n\n",
    "    return out\n",
    "\n",
    "def FN(Y, Y_hat, n):\n",
    "    l1 = np.where(Y == 1)\n",
    "    l2 = np.where(Y_hat == 0)\n",
    "    out = len(np.intersect1d(l1,l2)) / n\n",
    "    return out\n",
    "\n",
    "def TN(Y, Y_hat, n):\n",
    "    l1 = np.where(Y == 0)\n",
    "    l2 = np.where(Y_hat == 0)\n",
    "    out = len(np.intersect1d(l1,l2)) / n\n",
    "    return out\n",
    "\n",
    "\n",
    "def f(X):\n",
    "    out = np.ceil(np.max(X))\n",
    "    return out\n",
    "\n",
    "#W = np.apply_along_axis(f, 1, W)\n",
    "#Y_test = Y_test.flatten()\n",
    "Y_hat_test = X_test @ W\n",
    "predicts = sigmoid(Y_hat_test).astype(int)\n",
    "predicts = np.argmax(predicts, 1)\n",
    "\n",
    "#predicts = predicts >= threshold\n",
    "#predicts = predicts.astype(float)"
   ]
  },
  {
   "cell_type": "code",
   "execution_count": 21,
   "id": "5ac366bd",
   "metadata": {},
   "outputs": [
    {
     "name": "stdout",
     "output_type": "stream",
     "text": [
      "+---+---+---+\n",
      "| 4 | 0 | 0 |\n",
      "+---+---+---+\n",
      "| 3 | 0 | 0 |\n",
      "+---+---+---+\n",
      "| 8 | 0 | 0 |\n",
      "+---+---+---+\n"
     ]
    }
   ],
   "source": [
    "#################### Confusion Matrix\n",
    "from tabulate import tabulate\n",
    "\n",
    "h = set(Y_data.flatten())\n",
    "res = [(a, b) for a in h for b in h]\n",
    "\n",
    "def f2(Y, Y_hat, n, i, j):\n",
    "    l1 = np.where(Y == i)\n",
    "    l2 = np.where(Y_hat == j)\n",
    "    out = len(np.intersect1d(l1,l2))\n",
    "    return out \n",
    "    \n",
    "a = np.empty((C, C))\n",
    "\n",
    "for i,j in res:\n",
    "    o = f2(Y_test, predicts, M_test, i, j)\n",
    "    a[int(i)][int(j)] = o\n",
    "\n",
    "# assign data\n",
    "mydata = list(a)\n",
    " \n",
    "# create header\n",
    "#head = [\"Name\", \"City\"]\n",
    " \n",
    "# display table\n",
    "print(tabulate(mydata, tablefmt=\"grid\"))"
   ]
  },
  {
   "cell_type": "code",
   "execution_count": 22,
   "id": "7626a3d0",
   "metadata": {},
   "outputs": [
    {
     "data": {
      "image/png": "[encoded data removed]",
      "text/plain": [
       "<Figure size 640x480 with 1 Axes>"
      ]
     },
     "metadata": {},
     "output_type": "display_data"
    }
   ],
   "source": [
    "#################### Learning Curve\n",
    "\n",
    "fig, ax = plt.subplots()\n",
    "\n",
    "plt.plot(range(1, epoch+1), L_train, label='Train')\n",
    "plt.plot(range(1, epoch+1), L_val, label='Validation')\n",
    "plt.title(\"Learning Curve\")\n",
    "plt.xlabel(\"Error\")\n",
    "plt.ylabel(\"Epoch\")\n",
    "plt.grid()\n",
    "plt.legend(loc=\"lower left\")\n",
    "\n",
    "\n",
    "txt = '\\n'.join((\n",
    "    r'MSE Train=%.2f' % (L_train[-1], ),\n",
    "    r'MSE Validation=%.2f' % (L_val[-1], )\n",
    "    ))\n",
    "\n",
    "props = dict(boxstyle='round', facecolor='wheat', alpha=0.5)\n",
    "\n",
    "plt.text(0.97, 0.96, txt, transform=ax.transAxes, fontsize=10, verticalalignment='top', horizontalalignment='right', bbox=props)\n",
    "\n",
    "plt.show()"
   ]
  },
  {
   "cell_type": "code",
   "execution_count": 33,
   "id": "4169285e",
   "metadata": {},
   "outputs": [
    {
     "name": "stdout",
     "output_type": "stream",
     "text": [
      "(30, 3)\n",
      "(105, 3)\n",
      "(105, 3)\n",
      "(105, 5)\n",
      "(5, 3)\n"
     ]
    }
   ],
   "source": [
    "print(np.shape(Y_hat_train))\n",
    "print(np.shape(Y_train_m))\n",
    "print(np.shape(Z_train))\n",
    "print(np.shape(X_train))\n",
    "print(np.shape(W))"
   ]
  },
  {
   "cell_type": "code",
   "execution_count": 17,
   "id": "0ccfd325",
   "metadata": {},
   "outputs": [
    {
     "data": {
      "text/plain": [
       "array([ 6, 15, 24])"
      ]
     },
     "execution_count": 17,
     "metadata": {},
     "output_type": "execute_result"
    }
   ],
   "source": [
    "k = np.array([[1,2,3],\n",
    "              [4,5,6],\n",
    "              [7,8,9]])\n",
    "\n",
    "s = np.sum(k, axis=1)\n",
    "s"
   ]
  },
  {
   "cell_type": "code",
   "execution_count": 28,
   "id": "81d4a7d2",
   "metadata": {},
   "outputs": [
    {
     "data": {
      "text/plain": [
       "array([[0.73105858, 0.88079708, 0.95257413],\n",
       "       [0.98201379, 0.99330715, 0.99752738],\n",
       "       [0.99908895, 0.99966465, 0.99987661]])"
      ]
     },
     "execution_count": 28,
     "metadata": {},
     "output_type": "execute_result"
    }
   ],
   "source": [
    "v = sigmoid(k)\n",
    "v"
   ]
  }
 ],
 "metadata": {
  "kernelspec": {
   "display_name": "Python 3 (ipykernel)",
   "language": "python",
   "name": "python3"
  },
  "language_info": {
   "codemirror_mode": {
    "name": "ipython",
    "version": 3
   },
   "file_extension": ".py",
   "mimetype": "text/x-python",
   "name": "python",
   "nbconvert_exporter": "python",
   "pygments_lexer": "ipython3",
   "version": "3.11.5"
  }
 },
 "nbformat": 4,
 "nbformat_minor": 5
}
