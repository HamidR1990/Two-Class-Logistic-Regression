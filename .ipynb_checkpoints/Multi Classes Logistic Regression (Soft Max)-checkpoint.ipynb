{
 "cells": [
  {
   "cell_type": "code",
   "execution_count": 1,
   "id": "ae4bd366",
   "metadata": {},
   "outputs": [],
   "source": [
    "#################### Multiclass Logistic Regression (Softmax) ####################\n",
    "import numpy as np\n",
    "import pandas as pd\n",
    "import matplotlib.pyplot as plt\n",
    "\n",
    "\n",
    "#################### Hyperparameters\n",
    "epoch = 100\n",
    "etta = 0.01\n",
    "threshold = 0.5\n",
    "train_rate = 0.7\n",
    "val_rate = 0.1\n",
    "test_rate = 0.2\n",
    "\n",
    "\n",
    "\n",
    "#################### Loading Dataset and Preprocessing\n",
    "df = pd.read_csv(\"iris/iris.data\")\n",
    "data = np.array(df)\n",
    "M,N = np.shape(data)\n",
    "\n",
    "X_data = data[:, :-1].astype(float)\n",
    "Y_data = data[:, -1]\n",
    "cls = set(Y_data)\n",
    "c = 0\n",
    "\n",
    "for item in cls:\n",
    "    idx = np.where(Y_data == item)\n",
    "    Y_data[idx] = c\n",
    "    c += 1\n",
    "\n",
    "Y_data = Y_data.astype(float)\n",
    "\n",
    "\n",
    "def normalisation(data):\n",
    "    M = np.max(data, axis=0)\n",
    "    m = np.min(data, axis=0)\n",
    "    out = (data - m) / (M-m)\n",
    "    return out\n",
    "\n",
    "\n",
    "def standardisation(data):\n",
    "    out = (data - np.mean(data, axis=0)) / np.std(data, axis=0)\n",
    "    return out\n",
    "\n",
    "\n",
    "X_data = standardisation(X_data)\n",
    "X_data = np.hstack((np.ones((M,1)), X_data))\n",
    "Y_data = np.reshape(Y_data, (M,1)).astype(float)\n",
    "data = np.hstack((X_data, Y_data))\n"
   ]
  },
  {
   "cell_type": "code",
   "execution_count": 7,
   "id": "67c3a0ce",
   "metadata": {},
   "outputs": [],
   "source": [
    "#################### Train-Test-Validation Split\n",
    "M_train = int(np.ceil(train_rate * M)) \n",
    "M_val = int(np.ceil(val_rate * M))\n",
    "M_test = M - (M_train + M_val)\n",
    "\n",
    "idx = np.random.permutation(M)\n",
    "train_idx = idx[:M_train] \n",
    "val_idx = idx[M_train: M_train+M_val]\n",
    "test_idx = idx[M_train+M_val:]\n",
    "\n",
    "X_train = data[train_idx, :-1]\n",
    "Y_train = data[train_idx, -1]\n",
    "X_val = data[val_idx, :-1]\n",
    "Y_val = data[val_idx, -1]\n",
    "X_test = data[test_idx, :-1]\n",
    "Y_test = data[test_idx, -1]\n"
   ]
  },
  {
   "cell_type": "code",
   "execution_count": 11,
   "id": "37738547",
   "metadata": {},
   "outputs": [],
   "source": [
    "#################### Logistic Regression Model (Softmax)\n",
    "\n",
    "def cost_func(Y, Y_hat, n):\n",
    "    new = np.apply_along_axis(np.exp, 1, Y_hat)\n",
    "    D = np.sum(new, axis=1)\n",
    "    new2 = np.apply_along_axis(np.exp, 1, Y_hat)\n",
    "    S = new2/D[:, np.newaxis]\n",
    "    Z = np.log(S) @ np.transpose(Y)\n",
    "    out = (-1/n) * Z.trace()\n",
    "    return out\n",
    "\n",
    "\n",
    "def grad(X, Y, Y_hat, n):\n",
    "    out = (1/n) * (np.transpose(X) @ (Y_hat - Y))\n",
    "    return out\n",
    "\n",
    "\n",
    "\n",
    "def my_func(arr):\n",
    "    idx = int(arr[0])\n",
    "    arr[idx+1] = 1\n",
    "    return arr\n",
    "\n",
    "C = len(cls)\n",
    "Y_train_m = np.zeros((M_train, C))\n",
    "Y_val_m = np.zeros((M_val, C))\n",
    "Y_test_m = np.zeros((M_test, C))\n",
    "\n",
    "new_1 = np.hstack((np.reshape(Y_train,(M_train,1)), Y_train_m))\n",
    "new_2 = np.hstack((np.reshape(Y_val,(M_val,1)), Y_val_m))\n",
    "new_3 = np.hstack((np.reshape(Y_test,(M_test,1)), Y_test_m))\n",
    "\n",
    "Y_train_m = np.apply_along_axis(my_func, 1, new_1)\n",
    "Y_train_m = Y_train_m[:, 1:]\n",
    "Y_val_m = np.apply_along_axis(my_func, 1, new_2)\n",
    "Y_val_m = Y_val_m[:, 1:]\n",
    "Y_test_m = np.apply_along_axis(my_func, 1, new_3)\n",
    "Y_test_m = Y_test_m[:, 1:]\n",
    "\n",
    "\n",
    "L_train = np.array([])\n",
    "L_val = np.array([])\n",
    "\n",
    "\n",
    "W = np.random.rand(N,C)\n",
    "\n",
    "for i in range(epoch):\n",
    "    Y_hat_train = X_train @ W\n",
    "    Y_hat_val = X_val @ W\n",
    "    c_train = cost_func(Y_train_m, Y_hat_train, M_train)\n",
    "    c_val = cost_func(Y_val_m, Y_hat_val, M_val)\n",
    "    \n",
    "    L_train = np.append(L_train, c_train)\n",
    "    L_val = np.append(L_val, c_val)\n",
    "    \n",
    "    W = W - (etta * grad(X_train, Y_train_m, Y_hat_train, M_train))\n",
    "    \n",
    "    \n",
    "  "
   ]
  },
  {
   "cell_type": "code",
   "execution_count": 10,
   "id": "fc683f81",
   "metadata": {},
   "outputs": [
    {
     "data": {
      "text/plain": [
       "15"
      ]
     },
     "execution_count": 10,
     "metadata": {},
     "output_type": "execute_result"
    }
   ],
   "source": [
    "a = np.array([[1,2,3],\n",
    "              [4,5,6],\n",
    "              [7,8,9]])\n",
    "\n",
    "\n",
    "b = np.log(a)\n",
    "p = a.trace()\n",
    "p"
   ]
  },
  {
   "cell_type": "code",
   "execution_count": 12,
   "id": "809871fe",
   "metadata": {},
   "outputs": [],
   "source": [
    "#################### Validation and Test\n",
    "def softmax(Y, Y_hat, n):\n",
    "    new = np.apply_along_axis(np.exp, 1, Y_hat)\n",
    "    D = np.sum(new, axis=1)\n",
    "    new2 = np.apply_along_axis(np.exp, 1, Y_hat)\n",
    "    S = new2/D[:, np.newaxis]\n",
    "    return S\n",
    "\n",
    "\n",
    "\n",
    "def accuracy(Y, Y_hat, n):\n",
    "    out = (np.sum(Y == np.round(Y_hat))) / n\n",
    "    return out\n",
    "\n",
    "def TP(Y, Y_hat, n):\n",
    "    l1 = np.where(Y == 1)\n",
    "    l2 = np.where(Y_hat == 1)\n",
    "    out = len(np.intersect1d(l1,l2)) / n\n",
    "    return out\n",
    "\n",
    "def FP(Y, Y_hat, n):\n",
    "    l1 = np.where(Y == 0)\n",
    "    l2 = np.where(Y_hat == 1)\n",
    "    out = len(np.intersect1d(l1,l2)) / n\n",
    "    return out\n",
    "\n",
    "def FN(Y, Y_hat, n):\n",
    "    l1 = np.where(Y == 1)\n",
    "    l2 = np.where(Y_hat == 0)\n",
    "    out = len(np.intersect1d(l1,l2)) / n\n",
    "    return out\n",
    "\n",
    "def TN(Y, Y_hat, n):\n",
    "    l1 = np.where(Y == 0)\n",
    "    l2 = np.where(Y_hat == 0)\n",
    "    out = len(np.intersect1d(l1,l2)) / n\n",
    "    return out\n",
    "\n",
    "\n",
    "def f(X):\n",
    "    out = np.ceil(np.max(X))\n",
    "    return out\n",
    "\n",
    "#W = np.apply_along_axis(f, 1, W)\n",
    "#Y_test = Y_test.flatten()\n",
    "Y_hat_test = X_test @ W\n",
    "predicts = softmax(Y_test_m, Y_hat_test, M_test)\n",
    "predicts = np.argmax(predicts, 1)\n",
    "\n",
    "#predicts = predicts >= threshold\n",
    "#predicts = predicts.astype(float)\n",
    "\n"
   ]
  },
  {
   "cell_type": "code",
   "execution_count": 13,
   "id": "1783c764",
   "metadata": {},
   "outputs": [
    {
     "name": "stdout",
     "output_type": "stream",
     "text": [
      "+----+---+----+\n",
      "| 11 | 0 |  0 |\n",
      "+----+---+----+\n",
      "|  0 | 4 |  3 |\n",
      "+----+---+----+\n",
      "|  0 | 1 | 10 |\n",
      "+----+---+----+\n"
     ]
    }
   ],
   "source": [
    "#################### Confusion Matrix\n",
    "from tabulate import tabulate\n",
    "\n",
    "h = set(Y_data.flatten())\n",
    "res = [(a, b) for a in h for b in h]\n",
    "\n",
    "def f2(Y, Y_hat, n, i, j):\n",
    "    l1 = np.where(Y == i)\n",
    "    l2 = np.where(Y_hat == j)\n",
    "    out = len(np.intersect1d(l1,l2))\n",
    "    return out \n",
    "    \n",
    "a = np.empty((C, C))\n",
    "\n",
    "for i,j in res:\n",
    "    o = f2(Y_test, predicts, M_test, i, j)\n",
    "    a[int(i)][int(j)] = o\n",
    "\n",
    "# assign data\n",
    "mydata = list(a)\n",
    " \n",
    "# create header\n",
    "#head = [\"Name\", \"City\"]\n",
    " \n",
    "# display table\n",
    "print(tabulate(mydata, tablefmt=\"grid\"))"
   ]
  },
  {
   "cell_type": "code",
   "execution_count": 14,
   "id": "8c88c42c",
   "metadata": {},
   "outputs": [
    {
     "data": {
      "image/png": "[encoded data removed]",
      "text/plain": [
       "<Figure size 640x480 with 1 Axes>"
      ]
     },
     "metadata": {},
     "output_type": "display_data"
    }
   ],
   "source": [
    "#################### Learning Curve\n",
    "\n",
    "fig, ax = plt.subplots()\n",
    "\n",
    "plt.plot(range(1, epoch+1), L_train, label='Train')\n",
    "plt.plot(range(1, epoch+1), L_val, label='Validation')\n",
    "plt.title(\"Learning Curve\")\n",
    "plt.xlabel(\"Error\")\n",
    "plt.ylabel(\"Epoch\")\n",
    "plt.grid()\n",
    "plt.legend(loc=\"lower left\")\n",
    "\n",
    "\n",
    "txt = '\\n'.join((\n",
    "    r'MSE Train=%.2f' % (L_train[-1], ),\n",
    "    r'MSE Validation=%.2f' % (L_val[-1], )\n",
    "    ))\n",
    "\n",
    "props = dict(boxstyle='round', facecolor='wheat', alpha=0.5)\n",
    "\n",
    "plt.text(0.97, 0.96, txt, transform=ax.transAxes, fontsize=10, verticalalignment='top', horizontalalignment='right', bbox=props)\n",
    "\n",
    "plt.show()"
   ]
  },
  {
   "cell_type": "code",
   "execution_count": 25,
   "id": "9db1da11",
   "metadata": {},
   "outputs": [
    {
     "name": "stdout",
     "output_type": "stream",
     "text": [
      "[[0.5 1.  1.5 2. ]\n",
      " [1.  1.2 1.4 1.6]\n",
      " [0.9 1.  1.1 1.2]]\n"
     ]
    }
   ],
   "source": [
    "import numpy as np\n",
    "\n",
    "\n",
    "arr1 = np.array([[1,2,3,4],\n",
    "                [5,6,7,8],\n",
    "                [9,10,11,12]])\n",
    "\n",
    "arr2 = np.array([2,5,10])\n",
    "\n",
    "c = arr1/arr2[:, np.newaxis]\n",
    "print(c)"
   ]
  },
  {
   "cell_type": "code",
   "execution_count": 42,
   "id": "d14fde23",
   "metadata": {},
   "outputs": [
    {
     "data": {
      "text/plain": [
       "array([[ 1,  2,  3,  4],\n",
       "       [ 5,  6,  7,  8],\n",
       "       [ 9, 10, 11, 12]])"
      ]
     },
     "execution_count": 42,
     "metadata": {},
     "output_type": "execute_result"
    }
   ],
   "source": [
    "arr1 = np.array([[1,2,3,4],\n",
    "                [5,6,7,8],\n",
    "                [9,10,11,12]])\n",
    "\n",
    "\n",
    "arr1"
   ]
  },
  {
   "cell_type": "code",
   "execution_count": 40,
   "id": "405da8ce",
   "metadata": {},
   "outputs": [
    {
     "data": {
      "text/plain": [
       "array([[2.71828183e+00, 7.38905610e+00, 2.00855369e+01, 5.45981500e+01],\n",
       "       [1.48413159e+02, 4.03428793e+02, 1.09663316e+03, 2.98095799e+03],\n",
       "       [8.10308393e+03, 2.20264658e+04, 5.98741417e+04, 1.62754791e+05]])"
      ]
     },
     "execution_count": 40,
     "metadata": {},
     "output_type": "execute_result"
    }
   ],
   "source": [
    "new = np.apply_along_axis(np.exp, 1, arr1)\n",
    "new"
   ]
  }
 ],
 "metadata": {
  "kernelspec": {
   "display_name": "Python 3 (ipykernel)",
   "language": "python",
   "name": "python3"
  },
  "language_info": {
   "codemirror_mode": {
    "name": "ipython",
    "version": 3
   },
   "file_extension": ".py",
   "mimetype": "text/x-python",
   "name": "python",
   "nbconvert_exporter": "python",
   "pygments_lexer": "ipython3",
   "version": "3.11.5"
  }
 },
 "nbformat": 4,
 "nbformat_minor": 5
}
